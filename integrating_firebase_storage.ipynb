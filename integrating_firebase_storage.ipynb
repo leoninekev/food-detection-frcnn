{
 "cells": [
  {
   "cell_type": "code",
   "execution_count": 1,
   "metadata": {},
   "outputs": [],
   "source": [
    "from google.cloud import storage\n",
    "from firebase import firebase"
   ]
  },
  {
   "cell_type": "code",
   "execution_count": null,
   "metadata": {},
   "outputs": [],
   "source": []
  },
  {
   "cell_type": "code",
   "execution_count": null,
   "metadata": {},
   "outputs": [],
   "source": [
    "import pandas as pd\n",
    "import urllib\n",
    "import xmltodict\n",
    "\n",
    "import firebase_admin\n",
    "from firebase_admin import credentials\n",
    "from firebase_admin import storage\n",
    "from firebase_admin import db\n",
    "\n",
    "cred = credentials.Certificate('C:\\mlicarus-37457-firebase-adminsdk-8ati9-376b3f1bd0_firebase_privatekey.json')\n",
    "#default_app = firebase_admin.initialize_app(cred)\n",
    "#firebase_admin.initialize_app(cred, {\n",
    "\n",
    "# Initialize the app with a service account, granting admin privileges\n",
    "firebase_admin.initialize_app(cred, {\n",
    "    'databaseURL': 'https://mlicarus-37457.firebaseio.com/'})"
   ]
  },
  {
   "cell_type": "code",
   "execution_count": 16,
   "metadata": {
    "scrolled": true
   },
   "outputs": [
    {
     "name": "stdout",
     "output_type": "stream",
     "text": [
      "{'-LVlub05QEMSIg0Z7jBh': {'annotateId': '-LVlub05QEMSIg0Z7jBh', 'imageUrl': 'https://firebasestorage.googleapis.com/v0/b/mlicarus-37457.appspot.com/o/test%2FannotationImages%2F-LVluMuTfYzckHzsoctM-1547025673251-annotate.jpg?alt=media&token=5b1ea3f7-1bd5-4d33-8525-1b588d6ca8d2', 'mealType': 'lunch', 'time': 1547025673251, 'userId': '-LVluMuTfYzckHzsoctM', 'xmlUrl': 'https://firebasestorage.googleapis.com/v0/b/mlicarus-37457.appspot.com/o/test%2FannotationXmls%2F-LVluMuTfYzckHzsoctM-1547025673251-annotate.xml?alt=media&token=4cfce88a-63f6-4ff0-b2bd-e493d8871947'}, '-LVlz43DXctnjwo5koZb': {'annotateId': '-LVlz43DXctnjwo5koZb', 'imageUrl': 'https://firebasestorage.googleapis.com/v0/b/mlicarus-37457.appspot.com/o/test%2FannotationImages%2F-LVlyc6Kqu3deaxu7s1n-1547026845046-annotate.jpg?alt=media&token=3a7315c4-5b8b-4913-870e-444ca2415254', 'mealType': 'breakfast', 'time': 1547026845046, 'userId': '-LVlyc6Kqu3deaxu7s1n', 'xmlUrl': 'https://firebasestorage.googleapis.com/v0/b/mlicarus-37457.appspot.com/o/test%2FannotationXmls%2F-LVlyc6Kqu3deaxu7s1n-1547026845046-annotate.xml?alt=media&token=4bfeb701-20ee-44ab-809e-1a5fc8f29968'}, '-LVm3k62gSt_sfjgYa-x': {'annotateId': '-LVm3k62gSt_sfjgYa-x', 'imageUrl': 'https://firebasestorage.googleapis.com/v0/b/mlicarus-37457.appspot.com/o/test%2FannotationImages%2F-LVlyc6Kqu3deaxu7s1n-1547028332057-annotate.jpg?alt=media&token=d47f346b-7561-4148-aec6-cf111dc56169', 'mealType': 'snacks', 'time': 1547028332057, 'userId': '-LVlyc6Kqu3deaxu7s1n', 'xmlUrl': 'https://firebasestorage.googleapis.com/v0/b/mlicarus-37457.appspot.com/o/test%2FannotationXmls%2F-LVlyc6Kqu3deaxu7s1n-1547028332057-annotate.xml?alt=media&token=5e087ced-3654-4106-a5dc-90415a31ac45'}, '-LVmRzUswD71p4ycxChI': {'annotateId': '-LVmRzUswD71p4ycxChI', 'imageUrl': 'https://firebasestorage.googleapis.com/v0/b/mlicarus-37457.appspot.com/o/test%2FannotationImages%2F-LVlyc6Kqu3deaxu7s1n-1547034686150-annotate.jpg?alt=media&token=5a1dfd70-9cf7-4e15-b830-38f4c6d894fe', 'mealType': 'breakfast', 'time': 1547034686150, 'userId': '-LVlyc6Kqu3deaxu7s1n', 'xmlUrl': 'https://firebasestorage.googleapis.com/v0/b/mlicarus-37457.appspot.com/o/test%2FannotationXmls%2F-LVlyc6Kqu3deaxu7s1n-1547034686150-annotate.xml?alt=media&token=21bcda2c-ab1d-432b-9c3a-c3be526095af'}, '-LW9h8aLCb0uV5IWNTxs': {'annotateId': '-LW9h8aLCb0uV5IWNTxs', 'imageUrl': 'https://firebasestorage.googleapis.com/v0/b/mlicarus-37457.appspot.com/o/test%2FannotationImages%2F-LW9gyKx77qfjnFfO8NE-1547441574005-annotate.jpg?alt=media&token=de621c59-c8bd-4e51-8c4f-7c669ded57c2', 'mealType': 'breakfast', 'time': 1547441574005, 'userId': '-LW9gyKx77qfjnFfO8NE', 'xmlUrl': 'https://firebasestorage.googleapis.com/v0/b/mlicarus-37457.appspot.com/o/test%2FannotationXmls%2F-LW9gyKx77qfjnFfO8NE-1547441574005-annotate.xml?alt=media&token=d4f41943-cb05-48c4-94c2-a4206d550b8e'}, '-LW9iSgPga4ED9N_tMQR': {'annotateId': '-LW9iSgPga4ED9N_tMQR', 'imageUrl': 'https://firebasestorage.googleapis.com/v0/b/mlicarus-37457.appspot.com/o/test%2FannotationImages%2F-LW9hrrQSRCFeY12Nd9T-1547441919899-annotate.jpg?alt=media&token=395c2e80-557b-4ab4-b60b-7c73ff26f717', 'mealType': 'breakfast', 'time': 1547441919899, 'userId': '-LW9hrrQSRCFeY12Nd9T', 'xmlUrl': 'https://firebasestorage.googleapis.com/v0/b/mlicarus-37457.appspot.com/o/test%2FannotationXmls%2F-LW9hrrQSRCFeY12Nd9T-1547441919899-annotate.xml?alt=media&token=dd8eb4e6-c6c9-4938-b02e-82264b13f2f8'}, '-LW9iujtSA0n72p4XwXa': {'annotateId': '-LW9iujtSA0n72p4XwXa', 'imageUrl': 'https://firebasestorage.googleapis.com/v0/b/mlicarus-37457.appspot.com/o/test%2FannotationImages%2F-LW9hrrQSRCFeY12Nd9T-1547442038898-annotate.jpg?alt=media&token=b33804e2-cfd9-46ef-afd7-3b44a102fea9', 'mealType': 'breakfast', 'time': 1547442038898, 'userId': '-LW9hrrQSRCFeY12Nd9T', 'xmlUrl': 'https://firebasestorage.googleapis.com/v0/b/mlicarus-37457.appspot.com/o/test%2FannotationXmls%2F-LW9hrrQSRCFeY12Nd9T-1547442038898-annotate.xml?alt=media&token=90dbbfa0-bc83-4632-96ae-a226da7576c1'}, '-LW9jtkoiHr406p5quh-': {'annotateId': '-LW9jtkoiHr406p5quh-', 'imageUrl': 'https://firebasestorage.googleapis.com/v0/b/mlicarus-37457.appspot.com/o/test%2FannotationImages%2F-LW9jV30WBUX7nQm4jQM-1547442296889-annotate.jpg?alt=media&token=21026c0b-3531-47f4-a3e9-2bd14917f502', 'mealType': 'breakfast', 'time': 1547442296889, 'userId': '-LW9jV30WBUX7nQm4jQM', 'xmlUrl': 'https://firebasestorage.googleapis.com/v0/b/mlicarus-37457.appspot.com/o/test%2FannotationXmls%2F-LW9jV30WBUX7nQm4jQM-1547442296889-annotate.xml?alt=media&token=ab4f4096-56ae-4e75-bcda-36483572cf3a'}, '-LWAqevBv89y4yI2-AVT': {'annotateId': '-LWAqevBv89y4yI2-AVT', 'imageUrl': 'https://firebasestorage.googleapis.com/v0/b/mlicarus-37457.appspot.com/o/test%2FannotationImages%2F-LVluMuTfYzckHzsoctM-1547460847371-annotate.jpg?alt=media&token=4fe479f3-a68f-4c04-9abe-e5d9182f8c3f', 'mealType': 'snacks', 'time': 1547460847371, 'userId': '-LVluMuTfYzckHzsoctM', 'xmlUrl': 'https://firebasestorage.googleapis.com/v0/b/mlicarus-37457.appspot.com/o/test%2FannotationXmls%2F-LVluMuTfYzckHzsoctM-1547460847371-annotate.xml?alt=media&token=3392c792-c0df-441d-b5d7-210749785d03'}, '-LWArvc0RXznt7Zlq2uO': {'annotateId': '-LWArvc0RXznt7Zlq2uO', 'imageUrl': 'https://firebasestorage.googleapis.com/v0/b/mlicarus-37457.appspot.com/o/test%2FannotationImages%2F-LVluMuTfYzckHzsoctM-1547461179199-annotate.jpg?alt=media&token=4a38628d-ac3d-4351-8329-89d5825b403a', 'mealType': 'lunch', 'time': 1547461179199, 'userId': '-LVluMuTfYzckHzsoctM', 'xmlUrl': 'https://firebasestorage.googleapis.com/v0/b/mlicarus-37457.appspot.com/o/test%2FannotationXmls%2F-LVluMuTfYzckHzsoctM-1547461179199-annotate.xml?alt=media&token=780a5ff1-58c9-4f6c-9d6e-eb2c31817791'}, '-LWQlDTGuU9_2HYz4BLT': {'annotateId': '-LWQlDTGuU9_2HYz4BLT', 'imageUrl': 'https://firebasestorage.googleapis.com/v0/b/mlicarus-37457.appspot.com/o/test%2FannotationImages%2F-LWQkr4_v8TTOIcHp74D-1547727855315-annotate.jpg?alt=media&token=143cafc4-9c7a-4cf2-aac2-bef57aac40cb', 'mealType': 'snacks', 'time': 1547727855315, 'userId': '-LWQkr4_v8TTOIcHp74D', 'xmlUrl': 'https://firebasestorage.googleapis.com/v0/b/mlicarus-37457.appspot.com/o/test%2FannotationXmls%2F-LWQkr4_v8TTOIcHp74D-1547727855315-annotate.xml?alt=media&token=7db7cc37-3d76-4c92-a1df-dd120c3efeef'}, '-LWUM0YoltUO3CNjl6u-': {'annotateId': '-LWUM0YoltUO3CNjl6u-', 'imageUrl': 'https://firebasestorage.googleapis.com/v0/b/mlicarus-37457.appspot.com/o/test%2FannotationImages%2F-LWKG2JczphSHLIyNAhE-1547788096546-annotate.jpg?alt=media&token=243a9278-73d2-4de0-acc1-40c7087b0152', 'mealType': 'lunch', 'time': 1547788096546, 'userId': '-LWKG2JczphSHLIyNAhE', 'xmlUrl': 'https://firebasestorage.googleapis.com/v0/b/mlicarus-37457.appspot.com/o/test%2FannotationXmls%2F-LWKG2JczphSHLIyNAhE-1547788096546-annotate.xml?alt=media&token=c7c65f76-ed72-401f-a7e8-d53c9e1aa26f'}, '-LXJOUoZTx9_fh5AOYZS': {'annotateId': '-LXJOUoZTx9_fh5AOYZS', 'imageUrl': 'https://firebasestorage.googleapis.com/v0/b/mlicarus-37457.appspot.com/o/test%2FannotationImages%2F-LW9hrrQSRCFeY12Nd9T-1548677936529-annotate.jpg?alt=media&token=06a07da3-c783-44df-8bb3-cbe203d74ef1', 'mealType': 'snacks', 'time': 1548677936529, 'userId': '-LW9hrrQSRCFeY12Nd9T', 'xmlUrl': 'https://firebasestorage.googleapis.com/v0/b/mlicarus-37457.appspot.com/o/test%2FannotationXmls%2F-LW9hrrQSRCFeY12Nd9T-1548677936529-annotate.xml?alt=media&token=75f7788d-16e3-47a1-8507-37bc97b08297'}, '-LZ2zMZh-moVayLNsHLE': {'annotateId': '-LZ2zMZh-moVayLNsHLE', 'imageUrl': 'https://firebasestorage.googleapis.com/v0/b/mlicarus-37457.appspot.com/o/test%2FannotationImages%2F-LXMn-ojVhlfm10bfcnj-1550550135350-annotate.jpg?alt=media&token=93be04d4-4f9d-4eed-8615-d717caef5b87', 'mealType': 'breakfast', 'time': 1550550135350, 'userId': '-LXMn-ojVhlfm10bfcnj', 'xmlUrl': 'https://firebasestorage.googleapis.com/v0/b/mlicarus-37457.appspot.com/o/test%2FannotationXmls%2F-LXMn-ojVhlfm10bfcnj-1550550135350-annotate.xml?alt=media&token=c14426e0-0736-4386-8ea6-fe21d953a876'}, '-LZ8dKxDFrF6zb_GcMdE': {'annotateId': '-LZ8dKxDFrF6zb_GcMdE', 'imageUrl': 'https://firebasestorage.googleapis.com/v0/b/mlicarus-37457.appspot.com/o/test%2FannotationImages%2F-LXMn-ojVhlfm10bfcnj-1550645025205-annotate.jpg?alt=media&token=f52364f7-3dff-44ab-8621-12b6d0f5eb6e', 'mealType': 'breakfast', 'time': 1550645025205, 'userId': '-LXMn-ojVhlfm10bfcnj', 'xmlUrl': 'https://firebasestorage.googleapis.com/v0/b/mlicarus-37457.appspot.com/o/test%2FannotationXmls%2F-LXMn-ojVhlfm10bfcnj-1550645025205-annotate.xml?alt=media&token=3e1587db-9dc8-4b70-b05c-dc9d5e922053'}, '-LZ8d_eSqTxng6tiOTPW': {'annotateId': '-LZ8d_eSqTxng6tiOTPW', 'imageUrl': 'https://firebasestorage.googleapis.com/v0/b/mlicarus-37457.appspot.com/o/test%2FannotationImages%2F-LXMn-ojVhlfm10bfcnj-1550645089706-annotate.jpg?alt=media&token=a3ac1191-29e0-4c2f-8097-a713cd69e37f', 'mealType': 'breakfast', 'time': 1550645089706, 'userId': '-LXMn-ojVhlfm10bfcnj', 'xmlUrl': 'https://firebasestorage.googleapis.com/v0/b/mlicarus-37457.appspot.com/o/test%2FannotationXmls%2F-LXMn-ojVhlfm10bfcnj-1550645089706-annotate.xml?alt=media&token=048ccb76-2964-4e94-845d-00251571e37a'}, '-LZ8fh7m2rWI_9GRN1mb': {'annotateId': '-LZ8fh7m2rWI_9GRN1mb', 'imageUrl': 'https://firebasestorage.googleapis.com/v0/b/mlicarus-37457.appspot.com/o/test%2FannotationImages%2F-LXMn-ojVhlfm10bfcnj-1550645644889-annotate.jpg?alt=media&token=c9c38bef-b0ec-4972-981a-b9d16a7bd264', 'mealType': 'breakfast', 'time': 1550645644889, 'userId': '-LXMn-ojVhlfm10bfcnj', 'xmlUrl': 'https://firebasestorage.googleapis.com/v0/b/mlicarus-37457.appspot.com/o/test%2FannotationXmls%2F-LXMn-ojVhlfm10bfcnj-1550645644889-annotate.xml?alt=media&token=d9e4274b-a067-43d2-826b-cd1cd742b1d1'}, '-LZ8mW4R61UEEHVlzbjX': {'annotateId': '-LZ8mW4R61UEEHVlzbjX', 'boundingBox': [{'name': 'Fcggb', 'xmax': 194, 'xmin': 0, 'ymax': 320, 'ymin': 126}, {'name': 'Fgvbb', 'xmax': 739, 'xmin': 545, 'ymax': 923, 'ymin': 729}], 'imageUrl': 'https://firebasestorage.googleapis.com/v0/b/mlicarus-37457.appspot.com/o/test%2FannotationImages%2F-LXMn-ojVhlfm10bfcnj-1550647428310-annotate.jpg?alt=media&token=954c267f-1b7b-4b1d-84dd-82b430851785', 'mealType': 'breakfast', 'time': 1550647428310, 'userId': '-LXMn-ojVhlfm10bfcnj', 'xmlUrl': 'https://firebasestorage.googleapis.com/v0/b/mlicarus-37457.appspot.com/o/test%2FannotationXmls%2F-LXMn-ojVhlfm10bfcnj-1550647428310-annotate.xml?alt=media&token=e07ce007-3e74-4828-8182-5f456a75a33b'}, '-LZEvD3z1tND9U3NXtB3': {'annotateId': '-LZEvD3z1tND9U3NXtB3', 'boundingBox': [{'name': 'Mouse', 'xmax': 618, 'xmin': 123, 'ymax': 742, 'ymin': 351}, {'name': 'Bg', 'xmax': 306, 'xmin': 158, 'ymax': 205, 'ymin': 57}], 'imageUrl': 'https://firebasestorage.googleapis.com/v0/b/mlicarus-37457.appspot.com/o/test%2FannotationImages%2F-LZEuokcpGcWE6nwMrSJ-1550750374696-annotate.jpg?alt=media&token=7f531e1d-b331-46a1-a27b-0c01ebb855cc', 'mealType': 'breakfast', 'time': 1550750374696, 'userId': '-LZEuokcpGcWE6nwMrSJ', 'xmlUrl': 'https://firebasestorage.googleapis.com/v0/b/mlicarus-37457.appspot.com/o/test%2FannotationXmls%2F-LZEuokcpGcWE6nwMrSJ-1550750374696-annotate.xml?alt=media&token=7b7bc1e5-7562-47f9-a5d9-ee7f8827c664'}, '-LZEw28Hlcxr4PvrmHjY': {'annotateId': '-LZEw28Hlcxr4PvrmHjY', 'boundingBox': [{'name': 'Mouse', 'xmax': 638, 'xmin': 144, 'ymax': 849, 'ymin': 292}], 'imageUrl': 'https://firebasestorage.googleapis.com/v0/b/mlicarus-37457.appspot.com/o/test%2FannotationImages%2F-LZEuokcpGcWE6nwMrSJ-1550750592470-annotate.jpg?alt=media&token=ac6fa2c7-0c8e-4fc8-9de6-39a49cf356f8', 'mealType': 'lunch', 'time': 1550750592470, 'userId': '-LZEuokcpGcWE6nwMrSJ', 'xmlUrl': 'https://firebasestorage.googleapis.com/v0/b/mlicarus-37457.appspot.com/o/test%2FannotationXmls%2F-LZEuokcpGcWE6nwMrSJ-1550750592470-annotate.xml?alt=media&token=989d9a9a-35a5-4350-9bdb-2342e6995480'}}\n"
     ]
    }
   ],
   "source": [
    "db_dict = db.reference('test/annotations')\n",
    "\n",
    "querry_dict = db_dict.get()\n",
    "print(querry_dict)"
   ]
  },
  {
   "cell_type": "code",
   "execution_count": 129,
   "metadata": {
    "scrolled": false
   },
   "outputs": [
    {
     "data": {
      "text/html": [
       "<div>\n",
       "<style scoped>\n",
       "    .dataframe tbody tr th:only-of-type {\n",
       "        vertical-align: middle;\n",
       "    }\n",
       "\n",
       "    .dataframe tbody tr th {\n",
       "        vertical-align: top;\n",
       "    }\n",
       "\n",
       "    .dataframe thead th {\n",
       "        text-align: right;\n",
       "    }\n",
       "</style>\n",
       "<table border=\"1\" class=\"dataframe\">\n",
       "  <thead>\n",
       "    <tr style=\"text-align: right;\">\n",
       "      <th></th>\n",
       "      <th>imgurl</th>\n",
       "      <th>xmlurl</th>\n",
       "    </tr>\n",
       "  </thead>\n",
       "  <tbody>\n",
       "    <tr>\n",
       "      <th>0</th>\n",
       "      <td>https://firebasestorage.googleapis.com/v0/b/ml...</td>\n",
       "      <td>https://firebasestorage.googleapis.com/v0/b/ml...</td>\n",
       "    </tr>\n",
       "    <tr>\n",
       "      <th>1</th>\n",
       "      <td>https://firebasestorage.googleapis.com/v0/b/ml...</td>\n",
       "      <td>https://firebasestorage.googleapis.com/v0/b/ml...</td>\n",
       "    </tr>\n",
       "    <tr>\n",
       "      <th>2</th>\n",
       "      <td>https://firebasestorage.googleapis.com/v0/b/ml...</td>\n",
       "      <td>https://firebasestorage.googleapis.com/v0/b/ml...</td>\n",
       "    </tr>\n",
       "    <tr>\n",
       "      <th>3</th>\n",
       "      <td>https://firebasestorage.googleapis.com/v0/b/ml...</td>\n",
       "      <td>https://firebasestorage.googleapis.com/v0/b/ml...</td>\n",
       "    </tr>\n",
       "    <tr>\n",
       "      <th>4</th>\n",
       "      <td>https://firebasestorage.googleapis.com/v0/b/ml...</td>\n",
       "      <td>https://firebasestorage.googleapis.com/v0/b/ml...</td>\n",
       "    </tr>\n",
       "  </tbody>\n",
       "</table>\n",
       "</div>"
      ],
      "text/plain": [
       "                                              imgurl  \\\n",
       "0  https://firebasestorage.googleapis.com/v0/b/ml...   \n",
       "1  https://firebasestorage.googleapis.com/v0/b/ml...   \n",
       "2  https://firebasestorage.googleapis.com/v0/b/ml...   \n",
       "3  https://firebasestorage.googleapis.com/v0/b/ml...   \n",
       "4  https://firebasestorage.googleapis.com/v0/b/ml...   \n",
       "\n",
       "                                              xmlurl  \n",
       "0  https://firebasestorage.googleapis.com/v0/b/ml...  \n",
       "1  https://firebasestorage.googleapis.com/v0/b/ml...  \n",
       "2  https://firebasestorage.googleapis.com/v0/b/ml...  \n",
       "3  https://firebasestorage.googleapis.com/v0/b/ml...  \n",
       "4  https://firebasestorage.googleapis.com/v0/b/ml...  "
      ]
     },
     "execution_count": 129,
     "metadata": {},
     "output_type": "execute_result"
    }
   ],
   "source": [
    "k_list = list(querry_dict)#outputs list of annotation ids from querry output\n",
    "\n",
    "labels2extract= ['imageUrl','xmlUrl']\n",
    "df = pd.DataFrame([[querry_dict[i][j] for j in labels2extract] for i in k_list], columns=['imgurl','xmlurl'])# for i in k_list])\n",
    "\n",
    "df.head(5)"
   ]
  },
  {
   "cell_type": "code",
   "execution_count": null,
   "metadata": {},
   "outputs": [],
   "source": []
  },
  {
   "cell_type": "code",
   "execution_count": 84,
   "metadata": {},
   "outputs": [],
   "source": [
    "path ='https://firebasestorage.googleapis.com/v0/b/mlicarus-37457.appspot.com/o/test%2FannotationXmls%2F-LVluMuTfYzckHzsoctM-1547025673251-annotate.xml?alt=media&token=4cfce88a-63f6-4ff0-b2bd-e493d8871947' #contains data as list\n",
    "#'https://firebasestorage.googleapis.com/v0/b/mlicarus-37457.appspot.com/o/dev%2FannotationXmls%2F-LVgl8J4pH-pf2TpPKBM-1546946283957-annotate.xml?alt=media&token=1216ed2f-d7bf-47f6-9c29-cc7d036c40e2'  #contains data as orderd dict\n",
    "file = urllib.request.urlopen(path)\n",
    "data= file.read()\n",
    "data_p= xmltodict.parse(data)['annotation']\n",
    "data= xmltodict.parse(data)['annotation']['object']"
   ]
  },
  {
   "cell_type": "code",
   "execution_count": 85,
   "metadata": {
    "scrolled": true
   },
   "outputs": [
    {
     "data": {
      "text/plain": [
       "OrderedDict([('folder', 'test'),\n",
       "             ('filename', 'test'),\n",
       "             ('userid', '-LVluMuTfYzckHzsoctM'),\n",
       "             ('mealType', 'lunch'),\n",
       "             ('path',\n",
       "              'https://firebasestorage.googleapis.com/v0/b/mlicarus-37457.appspot.com/o/test%2FannotationImages%2F-LVluMuTfYzckHzsoctM-1547025673251-annotate.jpg?alt=media&token=5b1ea3f7-1bd5-4d33-8525-1b588d6ca8d2'),\n",
       "             ('time', '1547025673251'),\n",
       "             ('source', OrderedDict([('database', 'Unknown')])),\n",
       "             ('size',\n",
       "              OrderedDict([('width', '720'),\n",
       "                           ('height', '1112'),\n",
       "                           ('depth', '3')])),\n",
       "             ('segmented', '0'),\n",
       "             ('object',\n",
       "              [OrderedDict([('name', 'Apple'),\n",
       "                            ('pose', 'Unspecified'),\n",
       "                            ('truncated', '0'),\n",
       "                            ('difficult', '0'),\n",
       "                            ('bndbox',\n",
       "                             OrderedDict([('xmin', '157'),\n",
       "                                          ('ymin', '46'),\n",
       "                                          ('xmax', '497'),\n",
       "                                          ('ymax', '580')]))]),\n",
       "               OrderedDict([('name', 'Apple'),\n",
       "                            ('pose', 'Unspecified'),\n",
       "                            ('truncated', '0'),\n",
       "                            ('difficult', '0'),\n",
       "                            ('bndbox',\n",
       "                             OrderedDict([('xmin', '24'),\n",
       "                                          ('ymin', '352'),\n",
       "                                          ('xmax', '393'),\n",
       "                                          ('ymax', '1014')]))])])])"
      ]
     },
     "execution_count": 85,
     "metadata": {},
     "output_type": "execute_result"
    }
   ],
   "source": [
    "data_p"
   ]
  },
  {
   "cell_type": "code",
   "execution_count": 111,
   "metadata": {
    "scrolled": true
   },
   "outputs": [
    {
     "data": {
      "text/plain": [
       "list"
      ]
     },
     "execution_count": 111,
     "metadata": {},
     "output_type": "execute_result"
    }
   ],
   "source": [
    "type(data)"
   ]
  },
  {
   "cell_type": "code",
   "execution_count": 113,
   "metadata": {},
   "outputs": [
    {
     "name": "stdout",
     "output_type": "stream",
     "text": [
      "neaah\n"
     ]
    }
   ],
   "source": [
    "if type([data]) is not list:\n",
    "    print('whooo')\n",
    "else:\n",
    "    print('neaah')"
   ]
  },
  {
   "cell_type": "code",
   "execution_count": 102,
   "metadata": {},
   "outputs": [
    {
     "data": {
      "text/plain": [
       "[OrderedDict([('name', 'Apple'),\n",
       "              ('pose', 'Unspecified'),\n",
       "              ('truncated', '0'),\n",
       "              ('difficult', '0'),\n",
       "              ('bndbox',\n",
       "               OrderedDict([('xmin', '157'),\n",
       "                            ('ymin', '46'),\n",
       "                            ('xmax', '497'),\n",
       "                            ('ymax', '580')]))]),\n",
       " OrderedDict([('name', 'Apple'),\n",
       "              ('pose', 'Unspecified'),\n",
       "              ('truncated', '0'),\n",
       "              ('difficult', '0'),\n",
       "              ('bndbox',\n",
       "               OrderedDict([('xmin', '24'),\n",
       "                            ('ymin', '352'),\n",
       "                            ('xmax', '393'),\n",
       "                            ('ymax', '1014')]))])]"
      ]
     },
     "execution_count": 102,
     "metadata": {},
     "output_type": "execute_result"
    }
   ],
   "source": [
    "data"
   ]
  },
  {
   "cell_type": "code",
   "execution_count": 103,
   "metadata": {},
   "outputs": [
    {
     "data": {
      "text/plain": [
       "2"
      ]
     },
     "execution_count": 103,
     "metadata": {},
     "output_type": "execute_result"
    }
   ],
   "source": [
    "len(data)"
   ]
  },
  {
   "cell_type": "code",
   "execution_count": 136,
   "metadata": {},
   "outputs": [],
   "source": [
    "labels= ['xmin','ymin','xmax','ymax','name']\n",
    "#tes= ','.join([data['bndbox'][n] for n in labels[:-1]])+ ',' + data[labels[-1]]\n",
    "test_list = [','.join([data[n]['bndbox'][lbl] for lbl in labels[:-1]])+ ',' + data[n][labels[-1]] for n in range(len(data))]"
   ]
  },
  {
   "cell_type": "code",
   "execution_count": 138,
   "metadata": {},
   "outputs": [
    {
     "data": {
      "text/plain": [
       "['157,46,497,580,Apple', '24,352,393,1014,Apple']"
      ]
     },
     "execution_count": 138,
     "metadata": {},
     "output_type": "execute_result"
    }
   ],
   "source": [
    "test_list"
   ]
  },
  {
   "cell_type": "code",
   "execution_count": 116,
   "metadata": {},
   "outputs": [
    {
     "data": {
      "text/html": [
       "<div>\n",
       "<style scoped>\n",
       "    .dataframe tbody tr th:only-of-type {\n",
       "        vertical-align: middle;\n",
       "    }\n",
       "\n",
       "    .dataframe tbody tr th {\n",
       "        vertical-align: top;\n",
       "    }\n",
       "\n",
       "    .dataframe thead th {\n",
       "        text-align: right;\n",
       "    }\n",
       "</style>\n",
       "<table border=\"1\" class=\"dataframe\">\n",
       "  <thead>\n",
       "    <tr style=\"text-align: right;\">\n",
       "      <th></th>\n",
       "      <th>hah</th>\n",
       "    </tr>\n",
       "  </thead>\n",
       "  <tbody>\n",
       "    <tr>\n",
       "      <th>0</th>\n",
       "      <td>157,46,497,580,Apple</td>\n",
       "    </tr>\n",
       "    <tr>\n",
       "      <th>1</th>\n",
       "      <td>24,352,393,1014,Apple</td>\n",
       "    </tr>\n",
       "  </tbody>\n",
       "</table>\n",
       "</div>"
      ],
      "text/plain": [
       "                     hah\n",
       "0   157,46,497,580,Apple\n",
       "1  24,352,393,1014,Apple"
      ]
     },
     "execution_count": 116,
     "metadata": {},
     "output_type": "execute_result"
    }
   ],
   "source": [
    "ab = pd.DataFrame({'hah': test_list})\n",
    "ab"
   ]
  },
  {
   "cell_type": "code",
   "execution_count": 150,
   "metadata": {},
   "outputs": [],
   "source": [
    "def parsexml(df_urls,labels):\n",
    "    '''\n",
    "    This parses the xmlUrl to output select contents of xml files.\n",
    "    \n",
    "    input arg:\n",
    "    df_urls: dataframe holding imgUrls & xmlUrls to xml annotations.\n",
    "    labels: lables to be extracted from xml file @url, i.e [xmin, ymin, xmax, ymax, name].\n",
    "    \n",
    "    return:\n",
    "    dataframe of combined string vals of image_url,xmin,ymin,xmax,ymax,class_name; as 'https://url.jpg,12,15,16,18,pizza'.\n",
    "    \n",
    "    '''    \n",
    "    df_x=pd.DataFrame(columns=['details'])    \n",
    "\n",
    "    for idx, url in enumerate(df_urls.xmlurl):\n",
    "        file = urllib.request.urlopen(url)\n",
    "        data= file.read()\n",
    "        data= xmltodict.parse(data)['annotation']['object']# annotation and object are common & irrelavant folder for traversing\n",
    "        if type(data) is not list:#when annotation holds only 1 object\n",
    "            data = [data]\n",
    "        #following appends each of the multiple objects in an image alongside same image url\n",
    "        \n",
    "        df_x.append({'details': [df_urls.imgurl + ',' + ','.join([data[n]['bndbox'][lbl] for lbl in labels[:-1]])+ ',' + data[n][labels[-1]] for n in range(len(data))]}, ignore_index=True)\n",
    "        #df_x = df_x.append({'details': [df_urls.imgurl + ',' + ','.join([data[n]['bndbox'][lbl] for lbl in labels[:-1]])+ ',' + data[n][labels[-1]] for n in range(len(data))]}, ignore_index=True)\n",
    "        \n",
    "    return df_x\n",
    "\n",
    "#folllowing line combines all above and horizontal list traversing method\n",
    "#df_x =pd.DataFrame([','.join([xmltodict.parse(urllib.request.urlopen(path).read())['annotation']['object']['bndbox'][n] for n in labels[:-1]])+ ',' +xmltodict.parse(urllib.request.urlopen(path).read())['annotation']['object'][labels[-1]] for path in df_xml.xmlurl], columns='details')\n",
    "\n"
   ]
  },
  {
   "cell_type": "code",
   "execution_count": 141,
   "metadata": {},
   "outputs": [],
   "source": [
    "def generate_annotations(ref_path):\n",
    "    '''\n",
    "    input arg:\n",
    "    ref_path: firebase reference path to annotation database\n",
    "\n",
    "    Output:\n",
    "    df_b: a dataframe constituting records of form 'https://apple.jpg,52,57,426,523,Apple'\n",
    "    thus generates a text file encompassing details of all images.\n",
    "    \n",
    "    '''   \n",
    "    ref = db.reference(ref_path)\n",
    "    querry_dic = ref.get()\n",
    "    k_list = list(querry_dic)#outputs list of annotation ids from output querry\n",
    "\n",
    "    labels_firebase_db= ['imageUrl','xmlUrl']#add lables to extract from db later, like xmin,ymin, class_name values when they're put out of xml \n",
    "\n",
    "    df_urls = pd.DataFrame([[querry_dic[i][j] for j in labels_firebase_db] for i in k_list], columns=['imgurl','xmlurl'])# for i in k_list])\n",
    "    \n",
    "    labels_ext_xml= ['xmin','ymin','xmax','ymax','name']#label names to be extracted from xml\n",
    "    \n",
    "    df_txt = parsexml(df_urls, labels_ext_xml)\n",
    "    \n",
    "    #df_b['details'] = df_a.imgurl+ ',' + df_b.details #new dataframe combined to give required format output\n",
    "    \n",
    "    \n",
    "    df_txt.to_csv('anno5.txt', header=None, index=None, sep=' ')#saves dataframe as annotations.txt file\n",
    "    \n",
    "    print('complete')\n",
    "    \n",
    "    #df= pd.DataFrame()\n",
    "    #following code aligns all required details -imgurl,ymin,ymin,xmax,yamx,class_name in format 'imgurl,ymin,ymin,xmax,yamx,class_name'\n",
    "    #once the field/tags of each xml are placed outside in db as subsequent child tags.(unlike now, where xmlUrl is given thus xmlUrl\n",
    "    #has to be put under separate column to parse via diff function)\n",
    "    \n",
    "    #df['details'] = [','.join([querry_dic[i][j] for j in labels2extract]) for i in k_list]\n",
    "    \n",
    "    "
   ]
  },
  {
   "cell_type": "code",
   "execution_count": 151,
   "metadata": {},
   "outputs": [],
   "source": [
    "ref = db.reference('test/annotations')\n",
    "querry_dic = ref.get()\n",
    "k_list = list(querry_dic)#outputs list of annotation ids from output querry\n",
    "\n",
    "labels_firebase_db= ['imageUrl','xmlUrl']#add lables to extract from db later, like xmin,ymin, class_name values when they're put out of xml \n",
    "\n",
    "df_urls = pd.DataFrame([[querry_dic[i][j] for j in labels_firebase_db] for i in k_list], columns=['imgurl','xmlurl'])# for i in k_list])\n",
    "    \n",
    "labels_ext_xml= ['xmin','ymin','xmax','ymax','name']#label names to be extracted from xml"
   ]
  },
  {
   "cell_type": "code",
   "execution_count": 154,
   "metadata": {
    "scrolled": true
   },
   "outputs": [
    {
     "data": {
      "text/html": [
       "<div>\n",
       "<style scoped>\n",
       "    .dataframe tbody tr th:only-of-type {\n",
       "        vertical-align: middle;\n",
       "    }\n",
       "\n",
       "    .dataframe tbody tr th {\n",
       "        vertical-align: top;\n",
       "    }\n",
       "\n",
       "    .dataframe thead th {\n",
       "        text-align: right;\n",
       "    }\n",
       "</style>\n",
       "<table border=\"1\" class=\"dataframe\">\n",
       "  <thead>\n",
       "    <tr style=\"text-align: right;\">\n",
       "      <th></th>\n",
       "      <th>imgurl</th>\n",
       "      <th>xmlurl</th>\n",
       "    </tr>\n",
       "  </thead>\n",
       "  <tbody>\n",
       "    <tr>\n",
       "      <th>0</th>\n",
       "      <td>https://firebasestorage.googleapis.com/v0/b/ml...</td>\n",
       "      <td>https://firebasestorage.googleapis.com/v0/b/ml...</td>\n",
       "    </tr>\n",
       "    <tr>\n",
       "      <th>1</th>\n",
       "      <td>https://firebasestorage.googleapis.com/v0/b/ml...</td>\n",
       "      <td>https://firebasestorage.googleapis.com/v0/b/ml...</td>\n",
       "    </tr>\n",
       "    <tr>\n",
       "      <th>2</th>\n",
       "      <td>https://firebasestorage.googleapis.com/v0/b/ml...</td>\n",
       "      <td>https://firebasestorage.googleapis.com/v0/b/ml...</td>\n",
       "    </tr>\n",
       "    <tr>\n",
       "      <th>3</th>\n",
       "      <td>https://firebasestorage.googleapis.com/v0/b/ml...</td>\n",
       "      <td>https://firebasestorage.googleapis.com/v0/b/ml...</td>\n",
       "    </tr>\n",
       "    <tr>\n",
       "      <th>4</th>\n",
       "      <td>https://firebasestorage.googleapis.com/v0/b/ml...</td>\n",
       "      <td>https://firebasestorage.googleapis.com/v0/b/ml...</td>\n",
       "    </tr>\n",
       "    <tr>\n",
       "      <th>5</th>\n",
       "      <td>https://firebasestorage.googleapis.com/v0/b/ml...</td>\n",
       "      <td>https://firebasestorage.googleapis.com/v0/b/ml...</td>\n",
       "    </tr>\n",
       "    <tr>\n",
       "      <th>6</th>\n",
       "      <td>https://firebasestorage.googleapis.com/v0/b/ml...</td>\n",
       "      <td>https://firebasestorage.googleapis.com/v0/b/ml...</td>\n",
       "    </tr>\n",
       "    <tr>\n",
       "      <th>7</th>\n",
       "      <td>https://firebasestorage.googleapis.com/v0/b/ml...</td>\n",
       "      <td>https://firebasestorage.googleapis.com/v0/b/ml...</td>\n",
       "    </tr>\n",
       "    <tr>\n",
       "      <th>8</th>\n",
       "      <td>https://firebasestorage.googleapis.com/v0/b/ml...</td>\n",
       "      <td>https://firebasestorage.googleapis.com/v0/b/ml...</td>\n",
       "    </tr>\n",
       "    <tr>\n",
       "      <th>9</th>\n",
       "      <td>https://firebasestorage.googleapis.com/v0/b/ml...</td>\n",
       "      <td>https://firebasestorage.googleapis.com/v0/b/ml...</td>\n",
       "    </tr>\n",
       "    <tr>\n",
       "      <th>10</th>\n",
       "      <td>https://firebasestorage.googleapis.com/v0/b/ml...</td>\n",
       "      <td>https://firebasestorage.googleapis.com/v0/b/ml...</td>\n",
       "    </tr>\n",
       "    <tr>\n",
       "      <th>11</th>\n",
       "      <td>https://firebasestorage.googleapis.com/v0/b/ml...</td>\n",
       "      <td>https://firebasestorage.googleapis.com/v0/b/ml...</td>\n",
       "    </tr>\n",
       "    <tr>\n",
       "      <th>12</th>\n",
       "      <td>https://firebasestorage.googleapis.com/v0/b/ml...</td>\n",
       "      <td>https://firebasestorage.googleapis.com/v0/b/ml...</td>\n",
       "    </tr>\n",
       "    <tr>\n",
       "      <th>13</th>\n",
       "      <td>https://firebasestorage.googleapis.com/v0/b/ml...</td>\n",
       "      <td>https://firebasestorage.googleapis.com/v0/b/ml...</td>\n",
       "    </tr>\n",
       "    <tr>\n",
       "      <th>14</th>\n",
       "      <td>https://firebasestorage.googleapis.com/v0/b/ml...</td>\n",
       "      <td>https://firebasestorage.googleapis.com/v0/b/ml...</td>\n",
       "    </tr>\n",
       "    <tr>\n",
       "      <th>15</th>\n",
       "      <td>https://firebasestorage.googleapis.com/v0/b/ml...</td>\n",
       "      <td>https://firebasestorage.googleapis.com/v0/b/ml...</td>\n",
       "    </tr>\n",
       "    <tr>\n",
       "      <th>16</th>\n",
       "      <td>https://firebasestorage.googleapis.com/v0/b/ml...</td>\n",
       "      <td>https://firebasestorage.googleapis.com/v0/b/ml...</td>\n",
       "    </tr>\n",
       "    <tr>\n",
       "      <th>17</th>\n",
       "      <td>https://firebasestorage.googleapis.com/v0/b/ml...</td>\n",
       "      <td>https://firebasestorage.googleapis.com/v0/b/ml...</td>\n",
       "    </tr>\n",
       "    <tr>\n",
       "      <th>18</th>\n",
       "      <td>https://firebasestorage.googleapis.com/v0/b/ml...</td>\n",
       "      <td>https://firebasestorage.googleapis.com/v0/b/ml...</td>\n",
       "    </tr>\n",
       "    <tr>\n",
       "      <th>19</th>\n",
       "      <td>https://firebasestorage.googleapis.com/v0/b/ml...</td>\n",
       "      <td>https://firebasestorage.googleapis.com/v0/b/ml...</td>\n",
       "    </tr>\n",
       "  </tbody>\n",
       "</table>\n",
       "</div>"
      ],
      "text/plain": [
       "                                               imgurl  \\\n",
       "0   https://firebasestorage.googleapis.com/v0/b/ml...   \n",
       "1   https://firebasestorage.googleapis.com/v0/b/ml...   \n",
       "2   https://firebasestorage.googleapis.com/v0/b/ml...   \n",
       "3   https://firebasestorage.googleapis.com/v0/b/ml...   \n",
       "4   https://firebasestorage.googleapis.com/v0/b/ml...   \n",
       "5   https://firebasestorage.googleapis.com/v0/b/ml...   \n",
       "6   https://firebasestorage.googleapis.com/v0/b/ml...   \n",
       "7   https://firebasestorage.googleapis.com/v0/b/ml...   \n",
       "8   https://firebasestorage.googleapis.com/v0/b/ml...   \n",
       "9   https://firebasestorage.googleapis.com/v0/b/ml...   \n",
       "10  https://firebasestorage.googleapis.com/v0/b/ml...   \n",
       "11  https://firebasestorage.googleapis.com/v0/b/ml...   \n",
       "12  https://firebasestorage.googleapis.com/v0/b/ml...   \n",
       "13  https://firebasestorage.googleapis.com/v0/b/ml...   \n",
       "14  https://firebasestorage.googleapis.com/v0/b/ml...   \n",
       "15  https://firebasestorage.googleapis.com/v0/b/ml...   \n",
       "16  https://firebasestorage.googleapis.com/v0/b/ml...   \n",
       "17  https://firebasestorage.googleapis.com/v0/b/ml...   \n",
       "18  https://firebasestorage.googleapis.com/v0/b/ml...   \n",
       "19  https://firebasestorage.googleapis.com/v0/b/ml...   \n",
       "\n",
       "                                               xmlurl  \n",
       "0   https://firebasestorage.googleapis.com/v0/b/ml...  \n",
       "1   https://firebasestorage.googleapis.com/v0/b/ml...  \n",
       "2   https://firebasestorage.googleapis.com/v0/b/ml...  \n",
       "3   https://firebasestorage.googleapis.com/v0/b/ml...  \n",
       "4   https://firebasestorage.googleapis.com/v0/b/ml...  \n",
       "5   https://firebasestorage.googleapis.com/v0/b/ml...  \n",
       "6   https://firebasestorage.googleapis.com/v0/b/ml...  \n",
       "7   https://firebasestorage.googleapis.com/v0/b/ml...  \n",
       "8   https://firebasestorage.googleapis.com/v0/b/ml...  \n",
       "9   https://firebasestorage.googleapis.com/v0/b/ml...  \n",
       "10  https://firebasestorage.googleapis.com/v0/b/ml...  \n",
       "11  https://firebasestorage.googleapis.com/v0/b/ml...  \n",
       "12  https://firebasestorage.googleapis.com/v0/b/ml...  \n",
       "13  https://firebasestorage.googleapis.com/v0/b/ml...  \n",
       "14  https://firebasestorage.googleapis.com/v0/b/ml...  \n",
       "15  https://firebasestorage.googleapis.com/v0/b/ml...  \n",
       "16  https://firebasestorage.googleapis.com/v0/b/ml...  \n",
       "17  https://firebasestorage.googleapis.com/v0/b/ml...  \n",
       "18  https://firebasestorage.googleapis.com/v0/b/ml...  \n",
       "19  https://firebasestorage.googleapis.com/v0/b/ml...  "
      ]
     },
     "execution_count": 154,
     "metadata": {},
     "output_type": "execute_result"
    }
   ],
   "source": [
    "df_urls\n"
   ]
  },
  {
   "cell_type": "code",
   "execution_count": 152,
   "metadata": {},
   "outputs": [],
   "source": [
    "df_txt = parsexml(df_urls, labels_ext_xml)"
   ]
  },
  {
   "cell_type": "code",
   "execution_count": 153,
   "metadata": {},
   "outputs": [
    {
     "data": {
      "text/html": [
       "<div>\n",
       "<style scoped>\n",
       "    .dataframe tbody tr th:only-of-type {\n",
       "        vertical-align: middle;\n",
       "    }\n",
       "\n",
       "    .dataframe tbody tr th {\n",
       "        vertical-align: top;\n",
       "    }\n",
       "\n",
       "    .dataframe thead th {\n",
       "        text-align: right;\n",
       "    }\n",
       "</style>\n",
       "<table border=\"1\" class=\"dataframe\">\n",
       "  <thead>\n",
       "    <tr style=\"text-align: right;\">\n",
       "      <th></th>\n",
       "      <th>details</th>\n",
       "    </tr>\n",
       "  </thead>\n",
       "  <tbody>\n",
       "  </tbody>\n",
       "</table>\n",
       "</div>"
      ],
      "text/plain": [
       "Empty DataFrame\n",
       "Columns: [details]\n",
       "Index: []"
      ]
     },
     "execution_count": 153,
     "metadata": {},
     "output_type": "execute_result"
    }
   ],
   "source": [
    "df_txt#.details.iloc[0]"
   ]
  },
  {
   "cell_type": "code",
   "execution_count": 142,
   "metadata": {},
   "outputs": [
    {
     "name": "stdout",
     "output_type": "stream",
     "text": [
      "complete\n",
      "tot time: 33.887938261032104\n"
     ]
    }
   ],
   "source": [
    "import time\n",
    "t= time.time()\n",
    "ref_path = 'test/annotations'\n",
    "generate_annotations(ref_path)\n",
    "\n",
    "print('tot time:', time.time()-t)"
   ]
  },
  {
   "cell_type": "markdown",
   "metadata": {},
   "source": [
    "### ♦ Or Alternatively\n",
    "#### Dicard use of xmlUrl for parsing xml, insted save all relevant label values which are otherwise stored in xml, outside as child nodes with 'imageUrl' as:\n",
    "\n",
    "labels2extract= ['imgurl', 'ymin', 'ymin', 'xmax', 'yamx', 'class_name']\n",
    "\n",
    "db_series= pd.Series([','.join([querry_dict[i][j] for j in labels2extract]) for i in k_list])\n",
    "\n",
    "db_series.head(3)\n",
    "\n",
    "print(db_series[0])\n",
    "\n",
    "db_series.to_csv('')\n",
    "\n",
    "###### • _For Example with existing nodes at same level_\n",
    "labels2extract =['annotateId','imageUrl','mealType','xmlUrl']\n"
   ]
  },
  {
   "cell_type": "code",
   "execution_count": 34,
   "metadata": {},
   "outputs": [
    {
     "name": "stdout",
     "output_type": "stream",
     "text": [
      "0    -LVlub05QEMSIg0Z7jBh,https://firebasestorage.g...\n",
      "1    -LVlz43DXctnjwo5koZb,https://firebasestorage.g...\n",
      "2    -LVm3k62gSt_sfjgYa-x,https://firebasestorage.g...\n",
      "3    -LVmRzUswD71p4ycxChI,https://firebasestorage.g...\n",
      "dtype: object\n",
      "\n",
      " -LVlub05QEMSIg0Z7jBh,https://firebasestorage.googleapis.com/v0/b/mlicarus-37457.appspot.com/o/test%2FannotationImages%2F-LVluMuTfYzckHzsoctM-1547025673251-annotate.jpg?alt=media&token=5b1ea3f7-1bd5-4d33-8525-1b588d6ca8d2,lunch,https://firebasestorage.googleapis.com/v0/b/mlicarus-37457.appspot.com/o/test%2FannotationXmls%2F-LVluMuTfYzckHzsoctM-1547025673251-annotate.xml?alt=media&token=4cfce88a-63f6-4ff0-b2bd-e493d8871947\n"
     ]
    }
   ],
   "source": [
    "labels2extract =['annotateId','imageUrl','mealType','xmlUrl']\n",
    "db_series= pd.Series([','.join([querry_dict[i][j] for j in labels2extract]) for i in k_list])\n",
    "print(db_series.head(4))\n",
    "print('\\n',db_series[0])\n",
    "#db_series.to_csv('annotations_firebase.txt')"
   ]
  },
  {
   "cell_type": "code",
   "execution_count": null,
   "metadata": {},
   "outputs": [],
   "source": []
  },
  {
   "cell_type": "code",
   "execution_count": null,
   "metadata": {},
   "outputs": [],
   "source": []
  },
  {
   "cell_type": "code",
   "execution_count": null,
   "metadata": {},
   "outputs": [],
   "source": [
    "def parsexml(df_xml,labels):\n",
    "    '''\n",
    "    input arg:\n",
    "    df_xml: dataframe holding xml paths to annotations.\n",
    "    labels: lables to be extracted from xml file @url, i.e [xmin, ymin, xmax, ymax, class_name].\n",
    "    \n",
    "    return:\n",
    "    dataframe of combined string vals of xmin,ymin,xmax,ymax,class_name; as '12,15,16,18,pizza'.\n",
    "    \n",
    "    '''   \n",
    "    \n",
    "    df_x=pd.DataFrame(columns=['details'])    \n",
    "    \n",
    "    for path in df_xml.xmlurl:\n",
    "        file = urllib.request.urlopen(path)\n",
    "        data= file.read()\n",
    "        data= xmltodict.parse(data)['annotation']['object']# annotation and object are common & irrelavant folder for traversing\n",
    "        \n",
    "        df_x = df_x.append({'details': ','.join([data['bndbox'][n] for n in labels[:-1]])+ ',' + data[labels[-1]]}, ignore_index=True)\n",
    "        \n",
    "    return df_x\n",
    "\n",
    "#folllowing line combines all above and horizontal list traversing method\n",
    "#df_x =pd.DataFrame([','.join([xmltodict.parse(urllib.request.urlopen(path).read())['annotation']['object']['bndbox'][n] for n in labels[:-1]])+ ',' +xmltodict.parse(urllib.request.urlopen(path).read())['annotation']['object'][labels[-1]] for path in df_xml.xmlurl], columns='details')\n",
    "\n"
   ]
  },
  {
   "cell_type": "code",
   "execution_count": 264,
   "metadata": {},
   "outputs": [],
   "source": [
    "def annotationfile(ref_path):\n",
    "    '''\n",
    "    input arg:\n",
    "    ref_path: reference path to annotation database\n",
    "\n",
    "    Output:\n",
    "    df_b: a dataframe constituting records of form 'https://apple.jpg,52,57,426,523,Apple'\n",
    "    thus generates a text file encompassing details of all images.\n",
    "    \n",
    "    '''   \n",
    "    ref = db.reference(ref_path)\n",
    "    querry_dic = ref.get()\n",
    "    k_list = list(querry_dic)#outputs list of annotation ids from output querry\n",
    "\n",
    "    labels2extract= ['imageUrl','xmlUrl']#add lables to extract from db later, like xmin,ymin, class_name values when they're put out of xml \n",
    "\n",
    "    df_a = pd.DataFrame([[querry_dic[i][j] for j in labels2extract] for i in k_list], columns=['imgurl','xmlurl'])# for i in k_list])\n",
    "    \n",
    "    labels= ['xmin','ymin','xmax','ymax','name']#label names to be extracted from xml\n",
    "    \n",
    "    df_b = parsexml(df_a, labels)\n",
    "    \n",
    "    df_b['details'] = df_a.imgurl+ ',' + df_b.details #new dataframe combined to give required format output\n",
    "    \n",
    "    \n",
    "    df_b.to_csv('annotations.txt', header=None, index=None, sep=' ')#saves dataframe as annotations.txt file\n",
    "    \n",
    "    print('complete')\n",
    "    \n",
    "    #df= pd.DataFrame()\n",
    "    #following code aligns all required details -imgurl,ymin,ymin,xmax,yamx,class_name in format 'imgurl,ymin,ymin,xmax,yamx,class_name'\n",
    "    #once the field/tags of each xml are placed outside in db as subsequent child tags.(unlike now, where xmlUrl is given thus xmlUrl\n",
    "    #has to be put under separate column to parse via diff function)\n",
    "    \n",
    "    #df['details'] = [','.join([querry_dic[i][j] for j in labels2extract]) for i in k_list]\n",
    "    \n",
    "    "
   ]
  },
  {
   "cell_type": "code",
   "execution_count": 265,
   "metadata": {},
   "outputs": [
    {
     "name": "stdout",
     "output_type": "stream",
     "text": [
      "complete\n",
      "tot time: 11.06363296508789\n"
     ]
    }
   ],
   "source": [
    "t= time.time()\n",
    "ref_path = 'dev/annotations'\n",
    "annotationfile(ref_path)\n",
    "\n",
    "print('tot time:', time.time()-t)"
   ]
  },
  {
   "cell_type": "code",
   "execution_count": 252,
   "metadata": {},
   "outputs": [
    {
     "name": "stdout",
     "output_type": "stream",
     "text": [
      "total time: 7.503429174423218\n"
     ]
    },
    {
     "data": {
      "text/html": [
       "<div>\n",
       "<style scoped>\n",
       "    .dataframe tbody tr th:only-of-type {\n",
       "        vertical-align: middle;\n",
       "    }\n",
       "\n",
       "    .dataframe tbody tr th {\n",
       "        vertical-align: top;\n",
       "    }\n",
       "\n",
       "    .dataframe thead th {\n",
       "        text-align: right;\n",
       "    }\n",
       "</style>\n",
       "<table border=\"1\" class=\"dataframe\">\n",
       "  <thead>\n",
       "    <tr style=\"text-align: right;\">\n",
       "      <th></th>\n",
       "      <th>details</th>\n",
       "    </tr>\n",
       "  </thead>\n",
       "  <tbody>\n",
       "    <tr>\n",
       "      <th>0</th>\n",
       "      <td>0,0,363,494,Apple</td>\n",
       "    </tr>\n",
       "    <tr>\n",
       "      <th>1</th>\n",
       "      <td>52,57,426,523,Apple</td>\n",
       "    </tr>\n",
       "    <tr>\n",
       "      <th>2</th>\n",
       "      <td>125,187,561,716,Alert</td>\n",
       "    </tr>\n",
       "    <tr>\n",
       "      <th>3</th>\n",
       "      <td>105,77,426,570,Apple</td>\n",
       "    </tr>\n",
       "    <tr>\n",
       "      <th>4</th>\n",
       "      <td>108,170,500,597,The</td>\n",
       "    </tr>\n",
       "  </tbody>\n",
       "</table>\n",
       "</div>"
      ],
      "text/plain": [
       "                 details\n",
       "0      0,0,363,494,Apple\n",
       "1    52,57,426,523,Apple\n",
       "2  125,187,561,716,Alert\n",
       "3   105,77,426,570,Apple\n",
       "4    108,170,500,597,The"
      ]
     },
     "execution_count": 252,
     "metadata": {},
     "output_type": "execute_result"
    }
   ],
   "source": [
    "import time\n",
    "\n",
    "t= time.time()\n",
    "\n",
    "ab= parsexml(df, labels)\n",
    "\n",
    "print('total time:', time.time()-t)\n",
    "ab"
   ]
  },
  {
   "cell_type": "code",
   "execution_count": null,
   "metadata": {},
   "outputs": [],
   "source": []
  },
  {
   "cell_type": "code",
   "execution_count": 1,
   "metadata": {},
   "outputs": [],
   "source": [
    "%matplotlib inline"
   ]
  },
  {
   "cell_type": "code",
   "execution_count": 2,
   "metadata": {},
   "outputs": [],
   "source": [
    "import numpy as np\n",
    "import urllib\n",
    "#from urllib import request\n",
    "import cv2\n",
    "def url2img(url):\n",
    "    resp = urllib.request.urlopen(url)#or pass a request object urllib.request.Request(url) to urlopen #loads a response object as resultt\n",
    "    img = np.asarray(bytearray(resp.read()), dtype='uint8')#resp.read() converts respont obj to byte then bytearray converts it to byteobject, then numpy array\n",
    "    img = cv2.imdecode(img, cv2.IMREAD_COLOR)\n",
    "    return img\n",
    "#img2= url2img('http://someurl/someimage.jpg')\n",
    "#cv2.imshow('img',img2)"
   ]
  },
  {
   "cell_type": "code",
   "execution_count": 4,
   "metadata": {},
   "outputs": [],
   "source": [
    "img2= url2img('https://upload.wikimedia.org/wikipedia/commons/5/54/Bhagat_Singh_1929.jpg')"
   ]
  },
  {
   "cell_type": "code",
   "execution_count": 5,
   "metadata": {
    "scrolled": true
   },
   "outputs": [
    {
     "data": {
      "text/plain": [
       "array([[[226, 226, 226],\n",
       "        [229, 229, 229],\n",
       "        [233, 233, 233],\n",
       "        ...,\n",
       "        [230, 230, 230],\n",
       "        [230, 230, 230],\n",
       "        [230, 230, 230]],\n",
       "\n",
       "       [[230, 230, 230],\n",
       "        [233, 233, 233],\n",
       "        [235, 235, 235],\n",
       "        ...,\n",
       "        [235, 235, 235],\n",
       "        [236, 236, 236],\n",
       "        [238, 238, 238]],\n",
       "\n",
       "       [[234, 234, 234],\n",
       "        [235, 235, 235],\n",
       "        [235, 235, 235],\n",
       "        ...,\n",
       "        [233, 233, 233],\n",
       "        [236, 236, 236],\n",
       "        [238, 238, 238]],\n",
       "\n",
       "       ...,\n",
       "\n",
       "       [[181, 181, 181],\n",
       "        [180, 180, 180],\n",
       "        [180, 180, 180],\n",
       "        ...,\n",
       "        [188, 188, 188],\n",
       "        [189, 189, 189],\n",
       "        [190, 190, 190]],\n",
       "\n",
       "       [[ 40,  40,  40],\n",
       "        [ 39,  39,  39],\n",
       "        [ 39,  39,  39],\n",
       "        ...,\n",
       "        [ 45,  45,  45],\n",
       "        [ 46,  46,  46],\n",
       "        [ 47,  47,  47]],\n",
       "\n",
       "       [[186, 186, 186],\n",
       "        [185, 185, 185],\n",
       "        [185, 185, 185],\n",
       "        ...,\n",
       "        [182, 182, 182],\n",
       "        [183, 183, 183],\n",
       "        [184, 184, 184]]], dtype=uint8)"
      ]
     },
     "execution_count": 5,
     "metadata": {},
     "output_type": "execute_result"
    }
   ],
   "source": [
    "img2"
   ]
  },
  {
   "cell_type": "code",
   "execution_count": 6,
   "metadata": {},
   "outputs": [],
   "source": [
    "cv2.imshow('img', img2)"
   ]
  },
  {
   "cell_type": "code",
   "execution_count": 5,
   "metadata": {},
   "outputs": [
    {
     "data": {
      "text/plain": [
       "<matplotlib.image.AxesImage at 0xa4862b0>"
      ]
     },
     "execution_count": 5,
     "metadata": {},
     "output_type": "execute_result"
    },
    {
     "data": {
      "image/png": "[encoded data removed]",
      "text/plain": [
       "<Figure size 432x288 with 1 Axes>"
      ]
     },
     "metadata": {},
     "output_type": "display_data"
    }
   ],
   "source": [
    "import matplotlib.pyplot as plt\n",
    "plt.imshow(img2)"
   ]
  }
 ],
 "metadata": {
  "kernelspec": {
   "display_name": "Python 3",
   "language": "python",
   "name": "python3"
  },
  "language_info": {
   "codemirror_mode": {
    "name": "ipython",
    "version": 3
   },
   "file_extension": ".py",
   "mimetype": "text/x-python",
   "name": "python",
   "nbconvert_exporter": "python",
   "pygments_lexer": "ipython3",
   "version": "3.6.6"
  }
 },
 "nbformat": 4,
 "nbformat_minor": 2
}
